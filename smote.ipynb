{
 "cells": [
  {
   "cell_type": "code",
   "execution_count": 2,
   "metadata": {},
   "outputs": [],
   "source": [
    "import pandas as pd\n",
    "import numpy as np\n",
    "import warnings\n",
    "warnings.filterwarnings('ignore')\n",
    "df=pd.read_csv('smote.csv',na_values=-1)\n",
    "cut=df.iloc[0:50000,:]\n",
    "cut.isnull().sum()\n",
    "y=cut['target']\n",
    "cut.drop(columns='target',inplace=True)"
   ]
  },
  {
   "cell_type": "code",
   "execution_count": 3,
   "metadata": {},
   "outputs": [],
   "source": [
    "missing_values=pd.DataFrame({'columns':cut.columns,'values':cut.isnull().sum(),\n",
    "                             'percentage':cut.isnull().sum()/cut.shape[0]*100})\n",
    "missing_values.sort_values(by='percentage',ascending=False)\n",
    "cols_to_drop=list(missing_values[missing_values['percentage']>40]['columns'])\n",
    "#cut.drop(columns=cols_to_drop,inplace=True)"
   ]
  },
  {
   "cell_type": "code",
   "execution_count": 4,
   "metadata": {},
   "outputs": [
    {
     "data": {
      "text/plain": [
       "(50000, 55)"
      ]
     },
     "execution_count": 4,
     "metadata": {},
     "output_type": "execute_result"
    }
   ],
   "source": [
    "cut.drop(columns=cols_to_drop,inplace=True)\n",
    "cols_with_no_na=list(missing_values[missing_values['percentage']==0]['columns'])\n",
    "a=[]\n",
    "for col in cols_with_no_na:\n",
    "    if len(np.unique(cut[col]))==1 or len(np.unique(cut[col]))==cut.shape[0]:\n",
    "        a.append(col)\n",
    "cut.drop(columns=a,inplace=True)\n",
    "cut.shape"
   ]
  },
  {
   "cell_type": "code",
   "execution_count": 5,
   "metadata": {},
   "outputs": [
    {
     "data": {
      "text/plain": [
       "ps_ind_01           int64\n",
       "ps_ind_02_cat      object\n",
       "ps_ind_03           int64\n",
       "ps_ind_04_cat      object\n",
       "ps_ind_05_cat      object\n",
       "ps_ind_06_bin      object\n",
       "ps_ind_07_bin      object\n",
       "ps_ind_08_bin      object\n",
       "ps_ind_09_bin      object\n",
       "ps_ind_10_bin      object\n",
       "ps_ind_11_bin      object\n",
       "ps_ind_12_bin      object\n",
       "ps_ind_13_bin      object\n",
       "ps_ind_14           int64\n",
       "ps_ind_15           int64\n",
       "ps_ind_16_bin      object\n",
       "ps_ind_17_bin      object\n",
       "ps_ind_18_bin      object\n",
       "ps_reg_01         float64\n",
       "ps_reg_02         float64\n",
       "ps_reg_03         float64\n",
       "ps_car_01_cat      object\n",
       "ps_car_02_cat      object\n",
       "ps_car_04_cat      object\n",
       "ps_car_06_cat      object\n",
       "ps_car_07_cat      object\n",
       "ps_car_08_cat      object\n",
       "ps_car_09_cat      object\n",
       "ps_car_10_cat      object\n",
       "ps_car_11_cat      object\n",
       "ps_car_11         float64\n",
       "ps_car_12         float64\n",
       "ps_car_13         float64\n",
       "ps_car_14         float64\n",
       "ps_car_15         float64\n",
       "ps_calc_01        float64\n",
       "ps_calc_02        float64\n",
       "ps_calc_03        float64\n",
       "ps_calc_04          int64\n",
       "ps_calc_05          int64\n",
       "ps_calc_06          int64\n",
       "ps_calc_07          int64\n",
       "ps_calc_08          int64\n",
       "ps_calc_09          int64\n",
       "ps_calc_10          int64\n",
       "ps_calc_11          int64\n",
       "ps_calc_12          int64\n",
       "ps_calc_13          int64\n",
       "ps_calc_14          int64\n",
       "ps_calc_15_bin     object\n",
       "ps_calc_16_bin     object\n",
       "ps_calc_17_bin     object\n",
       "ps_calc_18_bin     object\n",
       "ps_calc_19_bin     object\n",
       "ps_calc_20_bin     object\n",
       "dtype: object"
      ]
     },
     "execution_count": 5,
     "metadata": {},
     "output_type": "execute_result"
    }
   ],
   "source": [
    "from sklearn.model_selection import train_test_split\n",
    "X_train, X_test, y_train, y_test = train_test_split(cut, y, test_size=0.3, random_state=42)\n",
    "X_train.shape\n",
    "cat_cols=[col for col in X_train.columns if 'cat' in col or 'bin' in col ]\n",
    "num_cols=[col for col in X_train.columns if 'cat' not in col or 'bin' not in col ]\n",
    "num_cols\n",
    "for col in num_cols:\n",
    "    X_train[col]=X_train[col].fillna(X_train[col].mean())\n",
    "    X_test[col]=X_test[col].fillna(X_train[col].mean())\n",
    "for col in cat_cols:\n",
    "    X_train[col]=X_train[col].fillna(X_train[col].mode()[0]).astype('object')\n",
    "    X_test[col]=X_test[col].fillna(X_train[col].mode()[0]).astype('object')\n",
    "X_train.dtypes"
   ]
  },
  {
   "cell_type": "code",
   "execution_count": 6,
   "metadata": {},
   "outputs": [],
   "source": [
    "from sklearn.preprocessing import LabelEncoder\n",
    "import numpy as np\n",
    "\n",
    "\n",
    "class LabelEncoderExt(object):\n",
    "    def __init__(self):\n",
    "        \"\"\"\n",
    "        It differs from LabelEncoder by handling new classes and providing a value for it [Unknown]\n",
    "        Unknown will be added in fit and transform will take care of new item. It gives unknown class id\n",
    "        \"\"\"\n",
    "        self.label_encoder = LabelEncoder()\n",
    "        # self.classes_ = self.label_encoder.classes_\n",
    "\n",
    "    def fit(self, data_list):\n",
    "        \"\"\"\n",
    "        This will fit the encoder for all the unique values and introduce unknown value\n",
    "        :param data_list: A list of string\n",
    "        :return: self\n",
    "        \"\"\"\n",
    "        self.label_encoder = self.label_encoder.fit(list(data_list) + ['Unknown'])\n",
    "        self.classes_ = self.label_encoder.classes_\n",
    "\n",
    "        return self\n",
    "\n",
    "    def transform(self, data_list):\n",
    "        \"\"\"\n",
    "        This will transform the data_list to id list where the new values get assigned to Unknown class\n",
    "        :param data_list:\n",
    "        :return:\n",
    "        \"\"\"\n",
    "        new_data_list = list(data_list)\n",
    "        for unique_item in np.unique(data_list):\n",
    "            if unique_item not in self.label_encoder.classes_:\n",
    "                new_data_list = ['Unknown' if x==unique_item else x for x in new_data_list]\n",
    "\n",
    "        return self.label_encoder.transform(new_data_list)"
   ]
  },
  {
   "cell_type": "code",
   "execution_count": 7,
   "metadata": {},
   "outputs": [],
   "source": [
    "label=LabelEncoderExt()\n",
    "for col in cat_cols:\n",
    "    label.fit(X_train[col])\n",
    "    X_train[col]=label.transform(X_train[col]).astype('object')\n",
    "    X_test[col]=label.transform(X_test[col]).astype('object')\n"
   ]
  },
  {
   "cell_type": "code",
   "execution_count": 8,
   "metadata": {},
   "outputs": [
    {
     "data": {
      "text/plain": [
       "ps_ind_01           int64\n",
       "ps_ind_02_cat      object\n",
       "ps_ind_03           int64\n",
       "ps_ind_04_cat      object\n",
       "ps_ind_05_cat      object\n",
       "ps_ind_06_bin      object\n",
       "ps_ind_07_bin      object\n",
       "ps_ind_08_bin      object\n",
       "ps_ind_09_bin      object\n",
       "ps_ind_10_bin      object\n",
       "ps_ind_11_bin      object\n",
       "ps_ind_12_bin      object\n",
       "ps_ind_13_bin      object\n",
       "ps_ind_14           int64\n",
       "ps_ind_15           int64\n",
       "ps_ind_16_bin      object\n",
       "ps_ind_17_bin      object\n",
       "ps_ind_18_bin      object\n",
       "ps_reg_01         float64\n",
       "ps_reg_02         float64\n",
       "ps_reg_03         float64\n",
       "ps_car_01_cat      object\n",
       "ps_car_02_cat      object\n",
       "ps_car_04_cat      object\n",
       "ps_car_06_cat      object\n",
       "ps_car_07_cat      object\n",
       "ps_car_08_cat      object\n",
       "ps_car_09_cat      object\n",
       "ps_car_10_cat      object\n",
       "ps_car_11_cat      object\n",
       "ps_car_11         float64\n",
       "ps_car_12         float64\n",
       "ps_car_13         float64\n",
       "ps_car_14         float64\n",
       "ps_car_15         float64\n",
       "ps_calc_01        float64\n",
       "ps_calc_02        float64\n",
       "ps_calc_03        float64\n",
       "ps_calc_04          int64\n",
       "ps_calc_05          int64\n",
       "ps_calc_06          int64\n",
       "ps_calc_07          int64\n",
       "ps_calc_08          int64\n",
       "ps_calc_09          int64\n",
       "ps_calc_10          int64\n",
       "ps_calc_11          int64\n",
       "ps_calc_12          int64\n",
       "ps_calc_13          int64\n",
       "ps_calc_14          int64\n",
       "ps_calc_15_bin     object\n",
       "ps_calc_16_bin     object\n",
       "ps_calc_17_bin     object\n",
       "ps_calc_18_bin     object\n",
       "ps_calc_19_bin     object\n",
       "ps_calc_20_bin     object\n",
       "dtype: object"
      ]
     },
     "execution_count": 8,
     "metadata": {},
     "output_type": "execute_result"
    }
   ],
   "source": [
    "X_train.dtypes"
   ]
  },
  {
   "cell_type": "code",
   "execution_count": 30,
   "metadata": {},
   "outputs": [
    {
     "name": "stdout",
     "output_type": "stream",
     "text": [
      "accuarcy_score 0.9630666666666666\n",
      "recall 0.0\n",
      "precision: 0.0\n"
     ]
    }
   ],
   "source": [
    "from sklearn.linear_model import LogisticRegression\n",
    "from sklearn.metrics import confusion_matrix,accuracy_score,precision_score,recall_score,roc_auc_score,roc_curve\n",
    "regression=LogisticRegression()\n",
    "regression.fit(X_train,y_train)\n",
    "regression_predict=regression.predict(X_test)\n",
    "confusion_matrix(y_test,regression_predict)\n",
    "print('accuarcy_score',accuracy_score(y_test,regression_predict))\n",
    "print('recall',recall_score(y_test,regression_predict))\n",
    "\n",
    "print('precision:',precision_score(y_test,regression_predict))\n"
   ]
  },
  {
   "cell_type": "code",
   "execution_count": 10,
   "metadata": {},
   "outputs": [
    {
     "data": {
      "text/plain": [
       "<matplotlib.axes._subplots.AxesSubplot at 0x25c073a6388>"
      ]
     },
     "execution_count": 10,
     "metadata": {},
     "output_type": "execute_result"
    }
   ],
   "source": [
    "from matplotlib import pyplot as plt\n",
    "import seaborn as sns\n",
    "#sns.distplot(cut['target'])\n",
    "sns.distplot(y)"
   ]
  },
  {
   "cell_type": "code",
   "execution_count": 11,
   "metadata": {},
   "outputs": [],
   "source": [
    "from imblearn.over_sampling import SMOTE\n",
    "smote=SMOTE"
   ]
  },
  {
   "cell_type": "code",
   "execution_count": 12,
   "metadata": {},
   "outputs": [],
   "source": [
    "import imblearn\n"
   ]
  },
  {
   "cell_type": "code",
   "execution_count": 45,
   "metadata": {},
   "outputs": [
    {
     "data": {
      "text/plain": [
       "1    33721\n",
       "0    33721\n",
       "Name: target, dtype: int64"
      ]
     },
     "execution_count": 45,
     "metadata": {},
     "output_type": "execute_result"
    }
   ],
   "source": [
    "from imblearn.over_sampling import SMOTE\n",
    "#smote=SMOTE(sampling_strategy=0.4,random_state=42)\n",
    "smote=SMOTE(random_state=42)\n",
    "X_smote,y_smote=smote.fit_sample(X_train,y_train)\n",
    "y_smote.value_counts()\n"
   ]
  },
  {
   "cell_type": "code",
   "execution_count": 47,
   "metadata": {},
   "outputs": [
    {
     "name": "stdout",
     "output_type": "stream",
     "text": [
      "recall: 0.7059102636339373\n",
      "accuarcy: 0.6902968476616945\n",
      "precision: 0.6845344222695117\n"
     ]
    }
   ],
   "source": [
    "from sklearn.linear_model import LogisticRegression\n",
    "from sklearn.metrics import confusion_matrix,accuracy_score,precision_score,recall_score,roc_auc_score,roc_curve,f1_score\n",
    "log=LogisticRegression()\n",
    "log.fit(X_smote,y_smote)\n",
    "log_predict=log.predict(X_smote)\n",
    "print('recall:',recall_score(y_smote,log_predict))\n",
    "print('accuarcy:',accuracy_score(y_smote,log_predict))\n",
    "print('precision:',precision_score(y_smote,log_predict))\n"
   ]
  },
  {
   "cell_type": "code",
   "execution_count": 49,
   "metadata": {},
   "outputs": [
    {
     "name": "stdout",
     "output_type": "stream",
     "text": [
      "                                                   Before SMOTE\n",
      "accuarcy_score 0.9630666666666666\n",
      "recall 0.0\n",
      "precision: 0.0\n",
      "                                                    After SMOTE\n",
      "accuarcy: 0.6902968476616945\n",
      "recall: 0.7059102636339373\n",
      "precision: 0.6845344222695117\n"
     ]
    }
   ],
   "source": [
    "print('                                                   Before SMOTE')\n",
    "print('accuarcy_score',accuracy_score(y_test,regression_predict))\n",
    "print('recall',recall_score(y_test,regression_predict))\n",
    "\n",
    "print('precision:',precision_score(y_test,regression_predict))\n",
    "\n",
    "\n",
    "print('                                                    After SMOTE')\n",
    "print('accuarcy:',accuracy_score(y_smote,log_predict))\n",
    "print('recall:',recall_score(y_smote,log_predict))\n",
    "print('precision:',precision_score(y_smote,log_predict))\n",
    "\n",
    "\n"
   ]
  }
 ],
 "metadata": {
  "kernelspec": {
   "display_name": "Python 3",
   "language": "python",
   "name": "python3"
  },
  "language_info": {
   "codemirror_mode": {
    "name": "ipython",
    "version": 3
   },
   "file_extension": ".py",
   "mimetype": "text/x-python",
   "name": "python",
   "nbconvert_exporter": "python",
   "pygments_lexer": "ipython3",
   "version": "3.7.4"
  }
 },
 "nbformat": 4,
 "nbformat_minor": 2
}
